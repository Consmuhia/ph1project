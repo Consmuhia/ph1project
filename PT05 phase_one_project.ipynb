{
 "cells": [
  {
   "cell_type": "markdown",
   "metadata": {},
   "source": [
    "# Explorative Data Analysis of Movie Trends"
   ]
  },
  {
   "cell_type": "raw",
   "metadata": {},
   "source": [
    "\n",
    "Project Overview\n",
    "This project used exploratory data analysis to generate insights for a microsoft business stakeholder.\n",
    "\n",
    "Business Problem\n",
    "\n",
    "The film industry is marked by fierce competition, with production studios dedicating significant resources to both the creation and promotion of movies. Nevertheless, not every film manages to attain substantial box office success. It is imperative for production companies to grasp the pivotal elements that impact a movie's earnings and its appeal to the audience. This understanding is essential for companies striving to optimize their return on investment.\n",
    "\n",
    "Microsoft has observed the growing trend of major companies venturing into the realm of original video content, and they are eager to join the ranks. With aspirations of establishing their own movie studio, they embark on a journey into the world of filmmaking, despite their limited experience in the field. This project is centered around the exploration of the most successful film genres currently dominating the box office. The objective is to extract practical insights that will empower the leadership of Microsoft's budding movie studio in determining the optimal genres for their future film creations.\n",
    "\n",
    "In the end, the outcomes of this project have the potential to offer valuable insights to management at Microsoft as they navigate the complexities of the movie-making journey. By comprehending the variables that underpin box office triumph, they can make well-informed choices regarding genre selection, story development, and strategic release dates. This, in turn, enhances their prospects of attaining greater movie revenue and ensuring audience contentment.\n",
    "\n",
    "The Data\n",
    "The analysis included three datasets: bom.movie_gross.csv, title.basics.csv, and title.ratings.csv. bom.movie_gross.csv was about gross earnings in both domestic and foreign market, title.basics.csv contained  title year, runtime and genre while title.ratings.csv contained data on average rating and number of votes \n"
   ]
  },
  {
   "cell_type": "code",
   "execution_count": null,
   "metadata": {},
   "outputs": [],
   "source": [
    "# loading the required libraries\n",
    "import pandas as pd\n",
    "import numpy as np\n",
    "import matplotlib.pyplot as plt\n",
    "%matplotlib inline\n",
    "import csv\n",
    "import seaborn as sns"
   ]
  },
  {
   "cell_type": "code",
   "execution_count": 10,
   "metadata": {},
   "outputs": [
    {
     "data": {
      "text/html": [
       "<div>\n",
       "<style scoped>\n",
       "    .dataframe tbody tr th:only-of-type {\n",
       "        vertical-align: middle;\n",
       "    }\n",
       "\n",
       "    .dataframe tbody tr th {\n",
       "        vertical-align: top;\n",
       "    }\n",
       "\n",
       "    .dataframe thead th {\n",
       "        text-align: right;\n",
       "    }\n",
       "</style>\n",
       "<table border=\"1\" class=\"dataframe\">\n",
       "  <thead>\n",
       "    <tr style=\"text-align: right;\">\n",
       "      <th></th>\n",
       "      <th>studio</th>\n",
       "      <th>domestic_gross</th>\n",
       "      <th>foreign_gross</th>\n",
       "      <th>year</th>\n",
       "    </tr>\n",
       "    <tr>\n",
       "      <th>title</th>\n",
       "      <th></th>\n",
       "      <th></th>\n",
       "      <th></th>\n",
       "      <th></th>\n",
       "    </tr>\n",
       "  </thead>\n",
       "  <tbody>\n",
       "    <tr>\n",
       "      <th>Toy Story 3</th>\n",
       "      <td>BV</td>\n",
       "      <td>415000000.0</td>\n",
       "      <td>652000000</td>\n",
       "      <td>2010</td>\n",
       "    </tr>\n",
       "    <tr>\n",
       "      <th>Alice in Wonderland (2010)</th>\n",
       "      <td>BV</td>\n",
       "      <td>334200000.0</td>\n",
       "      <td>691300000</td>\n",
       "      <td>2010</td>\n",
       "    </tr>\n",
       "    <tr>\n",
       "      <th>Harry Potter and the Deathly Hallows Part 1</th>\n",
       "      <td>WB</td>\n",
       "      <td>296000000.0</td>\n",
       "      <td>664300000</td>\n",
       "      <td>2010</td>\n",
       "    </tr>\n",
       "    <tr>\n",
       "      <th>Inception</th>\n",
       "      <td>WB</td>\n",
       "      <td>292600000.0</td>\n",
       "      <td>535700000</td>\n",
       "      <td>2010</td>\n",
       "    </tr>\n",
       "    <tr>\n",
       "      <th>Shrek Forever After</th>\n",
       "      <td>P/DW</td>\n",
       "      <td>238700000.0</td>\n",
       "      <td>513900000</td>\n",
       "      <td>2010</td>\n",
       "    </tr>\n",
       "  </tbody>\n",
       "</table>\n",
       "</div>"
      ],
      "text/plain": [
       "                                            studio  domestic_gross  \\\n",
       "title                                                                \n",
       "Toy Story 3                                     BV     415000000.0   \n",
       "Alice in Wonderland (2010)                      BV     334200000.0   \n",
       "Harry Potter and the Deathly Hallows Part 1     WB     296000000.0   \n",
       "Inception                                       WB     292600000.0   \n",
       "Shrek Forever After                           P/DW     238700000.0   \n",
       "\n",
       "                                            foreign_gross  year  \n",
       "title                                                            \n",
       "Toy Story 3                                     652000000  2010  \n",
       "Alice in Wonderland (2010)                      691300000  2010  \n",
       "Harry Potter and the Deathly Hallows Part 1     664300000  2010  \n",
       "Inception                                       535700000  2010  \n",
       "Shrek Forever After                             513900000  2010  "
      ]
     },
     "execution_count": 10,
     "metadata": {},
     "output_type": "execute_result"
    }
   ],
   "source": [
    "# loading csv file into panda dataframe with the first column\n",
    "# indexing the first column values to be the row labels \n",
    "df = pd.read_csv('bom.movie_gross.csv', index_col = 0)\n",
    "df1= pd.read_csv('title.basics.csv', index_col = 0)\n",
    "df2= pd.read_csv('title.ratings.csv', index_col = 0)\n",
    "\n",
    "# to check if the loading was successful\n",
    "# get the first five rows of df file\n",
    "df.head()"
   ]
  },
  {
   "cell_type": "code",
   "execution_count": 11,
   "metadata": {},
   "outputs": [
    {
     "data": {
      "text/html": [
       "<div>\n",
       "<style scoped>\n",
       "    .dataframe tbody tr th:only-of-type {\n",
       "        vertical-align: middle;\n",
       "    }\n",
       "\n",
       "    .dataframe tbody tr th {\n",
       "        vertical-align: top;\n",
       "    }\n",
       "\n",
       "    .dataframe thead th {\n",
       "        text-align: right;\n",
       "    }\n",
       "</style>\n",
       "<table border=\"1\" class=\"dataframe\">\n",
       "  <thead>\n",
       "    <tr style=\"text-align: right;\">\n",
       "      <th></th>\n",
       "      <th>primary_title</th>\n",
       "      <th>original_title</th>\n",
       "      <th>start_year</th>\n",
       "      <th>runtime_minutes</th>\n",
       "      <th>genres</th>\n",
       "    </tr>\n",
       "    <tr>\n",
       "      <th>tconst</th>\n",
       "      <th></th>\n",
       "      <th></th>\n",
       "      <th></th>\n",
       "      <th></th>\n",
       "      <th></th>\n",
       "    </tr>\n",
       "  </thead>\n",
       "  <tbody>\n",
       "    <tr>\n",
       "      <th>tt0063540</th>\n",
       "      <td>Sunghursh</td>\n",
       "      <td>Sunghursh</td>\n",
       "      <td>2013</td>\n",
       "      <td>175.0</td>\n",
       "      <td>Action,Crime,Drama</td>\n",
       "    </tr>\n",
       "    <tr>\n",
       "      <th>tt0066787</th>\n",
       "      <td>One Day Before the Rainy Season</td>\n",
       "      <td>Ashad Ka Ek Din</td>\n",
       "      <td>2019</td>\n",
       "      <td>114.0</td>\n",
       "      <td>Biography,Drama</td>\n",
       "    </tr>\n",
       "    <tr>\n",
       "      <th>tt0069049</th>\n",
       "      <td>The Other Side of the Wind</td>\n",
       "      <td>The Other Side of the Wind</td>\n",
       "      <td>2018</td>\n",
       "      <td>122.0</td>\n",
       "      <td>Drama</td>\n",
       "    </tr>\n",
       "    <tr>\n",
       "      <th>tt0069204</th>\n",
       "      <td>Sabse Bada Sukh</td>\n",
       "      <td>Sabse Bada Sukh</td>\n",
       "      <td>2018</td>\n",
       "      <td>NaN</td>\n",
       "      <td>Comedy,Drama</td>\n",
       "    </tr>\n",
       "    <tr>\n",
       "      <th>tt0100275</th>\n",
       "      <td>The Wandering Soap Opera</td>\n",
       "      <td>La Telenovela Errante</td>\n",
       "      <td>2017</td>\n",
       "      <td>80.0</td>\n",
       "      <td>Comedy,Drama,Fantasy</td>\n",
       "    </tr>\n",
       "  </tbody>\n",
       "</table>\n",
       "</div>"
      ],
      "text/plain": [
       "                             primary_title              original_title  \\\n",
       "tconst                                                                   \n",
       "tt0063540                        Sunghursh                   Sunghursh   \n",
       "tt0066787  One Day Before the Rainy Season             Ashad Ka Ek Din   \n",
       "tt0069049       The Other Side of the Wind  The Other Side of the Wind   \n",
       "tt0069204                  Sabse Bada Sukh             Sabse Bada Sukh   \n",
       "tt0100275         The Wandering Soap Opera       La Telenovela Errante   \n",
       "\n",
       "           start_year  runtime_minutes                genres  \n",
       "tconst                                                        \n",
       "tt0063540        2013            175.0    Action,Crime,Drama  \n",
       "tt0066787        2019            114.0       Biography,Drama  \n",
       "tt0069049        2018            122.0                 Drama  \n",
       "tt0069204        2018              NaN          Comedy,Drama  \n",
       "tt0100275        2017             80.0  Comedy,Drama,Fantasy  "
      ]
     },
     "execution_count": 11,
     "metadata": {},
     "output_type": "execute_result"
    }
   ],
   "source": [
    "# to check if df1 loading was successful\n",
    "# get the first five rows of df1 file\n",
    "df1.head()"
   ]
  },
  {
   "cell_type": "code",
   "execution_count": 12,
   "metadata": {},
   "outputs": [
    {
     "data": {
      "text/html": [
       "<div>\n",
       "<style scoped>\n",
       "    .dataframe tbody tr th:only-of-type {\n",
       "        vertical-align: middle;\n",
       "    }\n",
       "\n",
       "    .dataframe tbody tr th {\n",
       "        vertical-align: top;\n",
       "    }\n",
       "\n",
       "    .dataframe thead th {\n",
       "        text-align: right;\n",
       "    }\n",
       "</style>\n",
       "<table border=\"1\" class=\"dataframe\">\n",
       "  <thead>\n",
       "    <tr style=\"text-align: right;\">\n",
       "      <th></th>\n",
       "      <th>averagerating</th>\n",
       "      <th>numvotes</th>\n",
       "    </tr>\n",
       "    <tr>\n",
       "      <th>tconst</th>\n",
       "      <th></th>\n",
       "      <th></th>\n",
       "    </tr>\n",
       "  </thead>\n",
       "  <tbody>\n",
       "    <tr>\n",
       "      <th>tt10356526</th>\n",
       "      <td>8.3</td>\n",
       "      <td>31</td>\n",
       "    </tr>\n",
       "    <tr>\n",
       "      <th>tt10384606</th>\n",
       "      <td>8.9</td>\n",
       "      <td>559</td>\n",
       "    </tr>\n",
       "    <tr>\n",
       "      <th>tt1042974</th>\n",
       "      <td>6.4</td>\n",
       "      <td>20</td>\n",
       "    </tr>\n",
       "    <tr>\n",
       "      <th>tt1043726</th>\n",
       "      <td>4.2</td>\n",
       "      <td>50352</td>\n",
       "    </tr>\n",
       "    <tr>\n",
       "      <th>tt1060240</th>\n",
       "      <td>6.5</td>\n",
       "      <td>21</td>\n",
       "    </tr>\n",
       "  </tbody>\n",
       "</table>\n",
       "</div>"
      ],
      "text/plain": [
       "            averagerating  numvotes\n",
       "tconst                             \n",
       "tt10356526            8.3        31\n",
       "tt10384606            8.9       559\n",
       "tt1042974             6.4        20\n",
       "tt1043726             4.2     50352\n",
       "tt1060240             6.5        21"
      ]
     },
     "execution_count": 12,
     "metadata": {},
     "output_type": "execute_result"
    }
   ],
   "source": [
    "# to check if df2 loading was successful\n",
    "# get the first five rows of df2 file\n",
    "df2.head()"
   ]
  },
  {
   "cell_type": "code",
   "execution_count": null,
   "metadata": {},
   "outputs": [],
   "source": [
    "JOINING DF1 AND DF2\n",
    "To be able to efficiently work with the datasets, two tables which share a column were merged into one i.e df3"
   ]
  },
  {
   "cell_type": "code",
   "execution_count": 56,
   "metadata": {},
   "outputs": [
    {
     "data": {
      "text/html": [
       "<div>\n",
       "<style scoped>\n",
       "    .dataframe tbody tr th:only-of-type {\n",
       "        vertical-align: middle;\n",
       "    }\n",
       "\n",
       "    .dataframe tbody tr th {\n",
       "        vertical-align: top;\n",
       "    }\n",
       "\n",
       "    .dataframe thead th {\n",
       "        text-align: right;\n",
       "    }\n",
       "</style>\n",
       "<table border=\"1\" class=\"dataframe\">\n",
       "  <thead>\n",
       "    <tr style=\"text-align: right;\">\n",
       "      <th></th>\n",
       "      <th>primary_title</th>\n",
       "      <th>original_title</th>\n",
       "      <th>start_year</th>\n",
       "      <th>runtime_minutes</th>\n",
       "      <th>genres</th>\n",
       "      <th>averagerating</th>\n",
       "      <th>numvotes</th>\n",
       "    </tr>\n",
       "    <tr>\n",
       "      <th>tconst</th>\n",
       "      <th></th>\n",
       "      <th></th>\n",
       "      <th></th>\n",
       "      <th></th>\n",
       "      <th></th>\n",
       "      <th></th>\n",
       "      <th></th>\n",
       "    </tr>\n",
       "  </thead>\n",
       "  <tbody>\n",
       "    <tr>\n",
       "      <th>tt0063540</th>\n",
       "      <td>Sunghursh</td>\n",
       "      <td>Sunghursh</td>\n",
       "      <td>2013</td>\n",
       "      <td>175.0</td>\n",
       "      <td>Action,Crime,Drama</td>\n",
       "      <td>7.0</td>\n",
       "      <td>77</td>\n",
       "    </tr>\n",
       "    <tr>\n",
       "      <th>tt0066787</th>\n",
       "      <td>One Day Before the Rainy Season</td>\n",
       "      <td>Ashad Ka Ek Din</td>\n",
       "      <td>2019</td>\n",
       "      <td>114.0</td>\n",
       "      <td>Biography,Drama</td>\n",
       "      <td>7.2</td>\n",
       "      <td>43</td>\n",
       "    </tr>\n",
       "    <tr>\n",
       "      <th>tt0069049</th>\n",
       "      <td>The Other Side of the Wind</td>\n",
       "      <td>The Other Side of the Wind</td>\n",
       "      <td>2018</td>\n",
       "      <td>122.0</td>\n",
       "      <td>Drama</td>\n",
       "      <td>6.9</td>\n",
       "      <td>4517</td>\n",
       "    </tr>\n",
       "    <tr>\n",
       "      <th>tt0069204</th>\n",
       "      <td>Sabse Bada Sukh</td>\n",
       "      <td>Sabse Bada Sukh</td>\n",
       "      <td>2018</td>\n",
       "      <td>NaN</td>\n",
       "      <td>Comedy,Drama</td>\n",
       "      <td>6.1</td>\n",
       "      <td>13</td>\n",
       "    </tr>\n",
       "    <tr>\n",
       "      <th>tt0100275</th>\n",
       "      <td>The Wandering Soap Opera</td>\n",
       "      <td>La Telenovela Errante</td>\n",
       "      <td>2017</td>\n",
       "      <td>80.0</td>\n",
       "      <td>Comedy,Drama,Fantasy</td>\n",
       "      <td>6.5</td>\n",
       "      <td>119</td>\n",
       "    </tr>\n",
       "    <tr>\n",
       "      <th>...</th>\n",
       "      <td>...</td>\n",
       "      <td>...</td>\n",
       "      <td>...</td>\n",
       "      <td>...</td>\n",
       "      <td>...</td>\n",
       "      <td>...</td>\n",
       "      <td>...</td>\n",
       "    </tr>\n",
       "    <tr>\n",
       "      <th>tt9913084</th>\n",
       "      <td>Diabolik sono io</td>\n",
       "      <td>Diabolik sono io</td>\n",
       "      <td>2019</td>\n",
       "      <td>75.0</td>\n",
       "      <td>Documentary</td>\n",
       "      <td>6.2</td>\n",
       "      <td>6</td>\n",
       "    </tr>\n",
       "    <tr>\n",
       "      <th>tt9914286</th>\n",
       "      <td>Sokagin Çocuklari</td>\n",
       "      <td>Sokagin Çocuklari</td>\n",
       "      <td>2019</td>\n",
       "      <td>98.0</td>\n",
       "      <td>Drama,Family</td>\n",
       "      <td>8.7</td>\n",
       "      <td>136</td>\n",
       "    </tr>\n",
       "    <tr>\n",
       "      <th>tt9914642</th>\n",
       "      <td>Albatross</td>\n",
       "      <td>Albatross</td>\n",
       "      <td>2017</td>\n",
       "      <td>NaN</td>\n",
       "      <td>Documentary</td>\n",
       "      <td>8.5</td>\n",
       "      <td>8</td>\n",
       "    </tr>\n",
       "    <tr>\n",
       "      <th>tt9914942</th>\n",
       "      <td>La vida sense la Sara Amat</td>\n",
       "      <td>La vida sense la Sara Amat</td>\n",
       "      <td>2019</td>\n",
       "      <td>NaN</td>\n",
       "      <td>NaN</td>\n",
       "      <td>6.6</td>\n",
       "      <td>5</td>\n",
       "    </tr>\n",
       "    <tr>\n",
       "      <th>tt9916160</th>\n",
       "      <td>Drømmeland</td>\n",
       "      <td>Drømmeland</td>\n",
       "      <td>2019</td>\n",
       "      <td>72.0</td>\n",
       "      <td>Documentary</td>\n",
       "      <td>6.5</td>\n",
       "      <td>11</td>\n",
       "    </tr>\n",
       "  </tbody>\n",
       "</table>\n",
       "<p>73856 rows × 7 columns</p>\n",
       "</div>"
      ],
      "text/plain": [
       "                             primary_title              original_title  \\\n",
       "tconst                                                                   \n",
       "tt0063540                        Sunghursh                   Sunghursh   \n",
       "tt0066787  One Day Before the Rainy Season             Ashad Ka Ek Din   \n",
       "tt0069049       The Other Side of the Wind  The Other Side of the Wind   \n",
       "tt0069204                  Sabse Bada Sukh             Sabse Bada Sukh   \n",
       "tt0100275         The Wandering Soap Opera       La Telenovela Errante   \n",
       "...                                    ...                         ...   \n",
       "tt9913084                 Diabolik sono io            Diabolik sono io   \n",
       "tt9914286                Sokagin Çocuklari           Sokagin Çocuklari   \n",
       "tt9914642                        Albatross                   Albatross   \n",
       "tt9914942       La vida sense la Sara Amat  La vida sense la Sara Amat   \n",
       "tt9916160                       Drømmeland                  Drømmeland   \n",
       "\n",
       "           start_year  runtime_minutes                genres  averagerating  \\\n",
       "tconst                                                                        \n",
       "tt0063540        2013            175.0    Action,Crime,Drama            7.0   \n",
       "tt0066787        2019            114.0       Biography,Drama            7.2   \n",
       "tt0069049        2018            122.0                 Drama            6.9   \n",
       "tt0069204        2018              NaN          Comedy,Drama            6.1   \n",
       "tt0100275        2017             80.0  Comedy,Drama,Fantasy            6.5   \n",
       "...               ...              ...                   ...            ...   \n",
       "tt9913084        2019             75.0           Documentary            6.2   \n",
       "tt9914286        2019             98.0          Drama,Family            8.7   \n",
       "tt9914642        2017              NaN           Documentary            8.5   \n",
       "tt9914942        2019              NaN                   NaN            6.6   \n",
       "tt9916160        2019             72.0           Documentary            6.5   \n",
       "\n",
       "           numvotes  \n",
       "tconst               \n",
       "tt0063540        77  \n",
       "tt0066787        43  \n",
       "tt0069049      4517  \n",
       "tt0069204        13  \n",
       "tt0100275       119  \n",
       "...             ...  \n",
       "tt9913084         6  \n",
       "tt9914286       136  \n",
       "tt9914642         8  \n",
       "tt9914942         5  \n",
       "tt9916160        11  \n",
       "\n",
       "[73856 rows x 7 columns]"
      ]
     },
     "execution_count": 56,
     "metadata": {},
     "output_type": "execute_result"
    }
   ],
   "source": [
    "# merging df1 and df2 to df3\n",
    "df3 = pd.merge(df1, df2, on='tconst')\n",
    "# checking whether the merger was successfull\n",
    "df3"
   ]
  },
  {
   "cell_type": "code",
   "execution_count": 57,
   "metadata": {},
   "outputs": [
    {
     "name": "stdout",
     "output_type": "stream",
     "text": [
      "<class 'pandas.core.frame.DataFrame'>\n",
      "Index: 73856 entries, tt0063540 to tt9916160\n",
      "Data columns (total 7 columns):\n",
      " #   Column           Non-Null Count  Dtype  \n",
      "---  ------           --------------  -----  \n",
      " 0   primary_title    73856 non-null  object \n",
      " 1   original_title   73856 non-null  object \n",
      " 2   start_year       73856 non-null  int64  \n",
      " 3   runtime_minutes  66236 non-null  float64\n",
      " 4   genres           73052 non-null  object \n",
      " 5   averagerating    73856 non-null  float64\n",
      " 6   numvotes         73856 non-null  int64  \n",
      "dtypes: float64(2), int64(2), object(3)\n",
      "memory usage: 4.5+ MB\n"
     ]
    }
   ],
   "source": [
    "# checking the dataset overview of the merged data\n",
    "df3.info()"
   ]
  },
  {
   "cell_type": "code",
   "execution_count": 69,
   "metadata": {},
   "outputs": [
    {
     "data": {
      "text/plain": [
       "(73856, 7)"
      ]
     },
     "execution_count": 69,
     "metadata": {},
     "output_type": "execute_result"
    }
   ],
   "source": [
    "# Dimensions of the df3 dataset\n",
    "df3.shape"
   ]
  },
  {
   "cell_type": "code",
   "execution_count": 70,
   "metadata": {},
   "outputs": [
    {
     "data": {
      "text/plain": [
       "primary_title         0\n",
       "original_title        0\n",
       "start_year            0\n",
       "runtime_minutes    7620\n",
       "genres              804\n",
       "averagerating         0\n",
       "numvotes              0\n",
       "dtype: int64"
      ]
     },
     "execution_count": 70,
     "metadata": {},
     "output_type": "execute_result"
    }
   ],
   "source": [
    "# Calculating the number of missing values in df3\n",
    "df3.isnull().sum()"
   ]
  },
  {
   "cell_type": "code",
   "execution_count": null,
   "metadata": {},
   "outputs": [],
   "source": [
    "observation: two variables have msissing values i.e genres and runtime minutes. \n",
    "Genres are objects while runtime values are float. We make further operations to cleam runtime minutes"
   ]
  },
  {
   "cell_type": "code",
   "execution_count": 71,
   "metadata": {},
   "outputs": [
    {
     "name": "stdout",
     "output_type": "stream",
     "text": [
      "primary_title       0.000000\n",
      "original_title      0.000000\n",
      "start_year          0.000000\n",
      "runtime_minutes    10.317374\n",
      "genres              1.088605\n",
      "averagerating       0.000000\n",
      "numvotes            0.000000\n",
      "dtype: float64\n"
     ]
    }
   ],
   "source": [
    "# Percentage of runtime missing values against total entries\n",
    "percentage_missing_run_min=(df3.isnull().sum()/len(df3))*100\n",
    "print(percentage_missing_run_min)"
   ]
  },
  {
   "cell_type": "markdown",
   "metadata": {},
   "source": [
    "\n",
    "Since only 10% is missing, we fill the remaining runtime minutes missing values with the column mean\n"
   ]
  },
  {
   "cell_type": "code",
   "execution_count": 77,
   "metadata": {},
   "outputs": [
    {
     "data": {
      "text/plain": [
       "primary_title        0\n",
       "original_title       0\n",
       "start_year           0\n",
       "runtime_minutes      0\n",
       "genres             804\n",
       "averagerating        0\n",
       "numvotes             0\n",
       "dtype: int64"
      ]
     },
     "execution_count": 77,
     "metadata": {},
     "output_type": "execute_result"
    }
   ],
   "source": [
    "# computing mean of runtime minutes and assining it to mean_run_min\n",
    "mean_run_min= df3.runtime_minutes.mean\n",
    "\n",
    "# filling the missing runtime minutes values with the column mean\n",
    "\n",
    "df3['runtime_minutes'].fillna(mean_run_min, inplace=True)\n",
    "# checking for the new missing values \n",
    "df3.isnull().sum()"
   ]
  },
  {
   "cell_type": "markdown",
   "metadata": {},
   "source": [
    "The data looks good for the purpose of this analysis!"
   ]
  },
  {
   "cell_type": "markdown",
   "metadata": {},
   "source": [
    "# EXPLORING THE DF (FIRST) DATASET"
   ]
  },
  {
   "cell_type": "code",
   "execution_count": 13,
   "metadata": {},
   "outputs": [
    {
     "data": {
      "text/plain": [
       "Index(['studio', 'domestic_gross', 'foreign_gross', 'year'], dtype='object')"
      ]
     },
     "execution_count": 13,
     "metadata": {},
     "output_type": "execute_result"
    }
   ],
   "source": [
    "# printing out to check the column names\n",
    "df.columns"
   ]
  },
  {
   "cell_type": "code",
   "execution_count": 16,
   "metadata": {},
   "outputs": [
    {
     "data": {
      "text/plain": [
       "(3387, 4)"
      ]
     },
     "execution_count": 16,
     "metadata": {},
     "output_type": "execute_result"
    }
   ],
   "source": [
    "# checking for the number of rows and columns \n",
    "df.shape"
   ]
  },
  {
   "cell_type": "code",
   "execution_count": 17,
   "metadata": {},
   "outputs": [
    {
     "name": "stdout",
     "output_type": "stream",
     "text": [
      "<class 'pandas.core.frame.DataFrame'>\n",
      "Index: 3387 entries, Toy Story 3 to An Actor Prepares\n",
      "Data columns (total 4 columns):\n",
      " #   Column          Non-Null Count  Dtype  \n",
      "---  ------          --------------  -----  \n",
      " 0   studio          3382 non-null   object \n",
      " 1   domestic_gross  3359 non-null   float64\n",
      " 2   foreign_gross   2037 non-null   object \n",
      " 3   year            3387 non-null   int64  \n",
      "dtypes: float64(1), int64(1), object(2)\n",
      "memory usage: 132.3+ KB\n"
     ]
    }
   ],
   "source": [
    "# checking for the overview of the data \n",
    "df.info()"
   ]
  },
  {
   "cell_type": "markdown",
   "metadata": {},
   "source": [
    "# FOREIGN GROSS IS NUMERIC BUT ITS PRESENTED AS OBJECT. WE CONVERT IT TO NUMERIC"
   ]
  },
  {
   "cell_type": "code",
   "execution_count": null,
   "metadata": {},
   "outputs": [],
   "source": [
    "# Convert foreign_gross column to numeric\n",
    "df['foreign_gross'] = pd.to_numeric(df['foreign_gross'], errors='coerce') \n",
    "# Converted to float since domestic_gross is also float"
   ]
  },
  {
   "cell_type": "code",
   "execution_count": 96,
   "metadata": {},
   "outputs": [
    {
     "data": {
      "text/plain": [
       "dtype('float64')"
      ]
     },
     "execution_count": 96,
     "metadata": {},
     "output_type": "execute_result"
    }
   ],
   "source": [
    "# checking whether conversion is successfull\n",
    "df['foreign_gross'].dtype"
   ]
  },
  {
   "cell_type": "markdown",
   "metadata": {},
   "source": [
    "FOREIGN GROSS HAS VERY MANY (40%) MISSING VALUES THEY NEED TO BE DROPPED SINCE FILLING MAY SKEW THE OUTCOME"
   ]
  },
  {
   "cell_type": "code",
   "execution_count": 30,
   "metadata": {},
   "outputs": [],
   "source": [
    "# dropping missing values\n",
    "df = df.dropna(subset=['foreign_gross'])"
   ]
  },
  {
   "cell_type": "code",
   "execution_count": 32,
   "metadata": {},
   "outputs": [
    {
     "data": {
      "text/plain": [
       "(2032, 5)"
      ]
     },
     "execution_count": 32,
     "metadata": {},
     "output_type": "execute_result"
    }
   ],
   "source": [
    "# Checking ro the new number of rows and columns after dropping missing values\n",
    "df.shape"
   ]
  },
  {
   "cell_type": "code",
   "execution_count": 33,
   "metadata": {},
   "outputs": [
    {
     "data": {
      "text/plain": [
       "studio             4\n",
       "domestic_gross    28\n",
       "foreign_gross      0\n",
       "year               0\n",
       "d_gross           28\n",
       "dtype: int64"
      ]
     },
     "execution_count": 33,
     "metadata": {},
     "output_type": "execute_result"
    }
   ],
   "source": [
    "# Reviewing the sum of remaining missing values\n",
    "df.isnull().sum()"
   ]
  },
  {
   "cell_type": "code",
   "execution_count": 39,
   "metadata": {},
   "outputs": [
    {
     "data": {
      "text/plain": [
       "studio             4\n",
       "domestic_gross     0\n",
       "foreign_gross      0\n",
       "year               0\n",
       "d_gross           28\n",
       "dtype: int64"
      ]
     },
     "execution_count": 39,
     "metadata": {},
     "output_type": "execute_result"
    }
   ],
   "source": [
    "# The missing values in domestic gross are very few so they can be filled using mean\n",
    "# filling the missing values in domestic gross with mean\n",
    "# compute domestic_gross and assign to a variable domestic_gross_mean\n",
    "domestic_gross_mean= df['domestic_gross'].mean()\n",
    "\n",
    "# fill the missing values using mean\n",
    "df['domestic_gross'].fillna(domestic_gross_mean, inplace=True)\n",
    "# Verify the missing value count\n",
    "df.isnull().sum()"
   ]
  },
  {
   "cell_type": "markdown",
   "metadata": {},
   "source": [
    "#THE DATA IS NOW CLEAN AND CAN BE SUBJECTED TO FURTHER ANALYSIS "
   ]
  },
  {
   "cell_type": "markdown",
   "metadata": {},
   "source": [
    "# EXPLORATION OF DF "
   ]
  },
  {
   "cell_type": "code",
   "execution_count": 100,
   "metadata": {},
   "outputs": [
    {
     "data": {
      "text/html": [
       "<div>\n",
       "<style scoped>\n",
       "    .dataframe tbody tr th:only-of-type {\n",
       "        vertical-align: middle;\n",
       "    }\n",
       "\n",
       "    .dataframe tbody tr th {\n",
       "        vertical-align: top;\n",
       "    }\n",
       "\n",
       "    .dataframe thead th {\n",
       "        text-align: right;\n",
       "    }\n",
       "</style>\n",
       "<table border=\"1\" class=\"dataframe\">\n",
       "  <thead>\n",
       "    <tr style=\"text-align: right;\">\n",
       "      <th></th>\n",
       "      <th>domestic_gross</th>\n",
       "      <th>foreign_gross</th>\n",
       "      <th>d_gross</th>\n",
       "    </tr>\n",
       "  </thead>\n",
       "  <tbody>\n",
       "    <tr>\n",
       "      <th>count</th>\n",
       "      <td>2.032000e+03</td>\n",
       "      <td>2.032000e+03</td>\n",
       "      <td>2.004000e+03</td>\n",
       "    </tr>\n",
       "    <tr>\n",
       "      <th>mean</th>\n",
       "      <td>4.566975e+07</td>\n",
       "      <td>7.505704e+07</td>\n",
       "      <td>4.566975e+07</td>\n",
       "    </tr>\n",
       "    <tr>\n",
       "      <th>std</th>\n",
       "      <td>7.584719e+07</td>\n",
       "      <td>1.375294e+08</td>\n",
       "      <td>7.637549e+07</td>\n",
       "    </tr>\n",
       "    <tr>\n",
       "      <th>min</th>\n",
       "      <td>4.000000e+02</td>\n",
       "      <td>6.000000e+02</td>\n",
       "      <td>4.000000e+02</td>\n",
       "    </tr>\n",
       "    <tr>\n",
       "      <th>25%</th>\n",
       "      <td>6.912500e+05</td>\n",
       "      <td>3.775000e+06</td>\n",
       "      <td>6.617500e+05</td>\n",
       "    </tr>\n",
       "    <tr>\n",
       "      <th>50%</th>\n",
       "      <td>1.740000e+07</td>\n",
       "      <td>1.890000e+07</td>\n",
       "      <td>1.635000e+07</td>\n",
       "    </tr>\n",
       "    <tr>\n",
       "      <th>75%</th>\n",
       "      <td>5.482500e+07</td>\n",
       "      <td>7.505000e+07</td>\n",
       "      <td>5.570000e+07</td>\n",
       "    </tr>\n",
       "    <tr>\n",
       "      <th>max</th>\n",
       "      <td>7.001000e+08</td>\n",
       "      <td>9.605000e+08</td>\n",
       "      <td>7.001000e+08</td>\n",
       "    </tr>\n",
       "  </tbody>\n",
       "</table>\n",
       "</div>"
      ],
      "text/plain": [
       "       domestic_gross  foreign_gross       d_gross\n",
       "count    2.032000e+03   2.032000e+03  2.004000e+03\n",
       "mean     4.566975e+07   7.505704e+07  4.566975e+07\n",
       "std      7.584719e+07   1.375294e+08  7.637549e+07\n",
       "min      4.000000e+02   6.000000e+02  4.000000e+02\n",
       "25%      6.912500e+05   3.775000e+06  6.617500e+05\n",
       "50%      1.740000e+07   1.890000e+07  1.635000e+07\n",
       "75%      5.482500e+07   7.505000e+07  5.570000e+07\n",
       "max      7.001000e+08   9.605000e+08  7.001000e+08"
      ]
     },
     "execution_count": 100,
     "metadata": {},
     "output_type": "execute_result"
    }
   ],
   "source": [
    "# checking for the descriptive statistics \n",
    "df.describe()"
   ]
  },
  {
   "cell_type": "markdown",
   "metadata": {},
   "source": [
    "\"\"Observation\"\"\"\n",
    "The mean for foreign gross is 75,057,040 while that of domestic gross is 45,669,750.however, the standard deviations are big (137,529,400 and 76,375,490 respectively) implying that there are extreme numbers in the data set. Indeed, the minimum foreign gross is 600 while the maximum is 960,500,000, a huge variaion! Similarly, the minimum in domestic gross is 400 while the maximum is 700,100,000. This implies that the mean cannot be efficient measure. Categorizing the data and getting the percentage would be more sensible."
   ]
  },
  {
   "cell_type": "markdown",
   "metadata": {},
   "source": [
    "# Categorizing the data"
   ]
  },
  {
   "cell_type": "code",
   "execution_count": 105,
   "metadata": {
    "scrolled": true
   },
   "outputs": [
    {
     "name": "stderr",
     "output_type": "stream",
     "text": [
      "<ipython-input-105-000b02845cb1>:4: SettingWithCopyWarning: \n",
      "A value is trying to be set on a copy of a slice from a DataFrame.\n",
      "Try using .loc[row_indexer,col_indexer] = value instead\n",
      "\n",
      "See the caveats in the documentation: https://pandas.pydata.org/pandas-docs/stable/user_guide/indexing.html#returning-a-view-versus-a-copy\n",
      "  df['dgross_category'] = pd.cut(df['domestic_gross'], bins=bins, labels=labels)\n",
      "<ipython-input-105-000b02845cb1>:5: SettingWithCopyWarning: \n",
      "A value is trying to be set on a copy of a slice from a DataFrame.\n",
      "Try using .loc[row_indexer,col_indexer] = value instead\n",
      "\n",
      "See the caveats in the documentation: https://pandas.pydata.org/pandas-docs/stable/user_guide/indexing.html#returning-a-view-versus-a-copy\n",
      "  df['fgross_category'] = pd.cut(df['foreign_gross'], bins=bins, labels=labels)\n"
     ]
    },
    {
     "data": {
      "text/html": [
       "<div>\n",
       "<style scoped>\n",
       "    .dataframe tbody tr th:only-of-type {\n",
       "        vertical-align: middle;\n",
       "    }\n",
       "\n",
       "    .dataframe tbody tr th {\n",
       "        vertical-align: top;\n",
       "    }\n",
       "\n",
       "    .dataframe thead th {\n",
       "        text-align: right;\n",
       "    }\n",
       "</style>\n",
       "<table border=\"1\" class=\"dataframe\">\n",
       "  <thead>\n",
       "    <tr style=\"text-align: right;\">\n",
       "      <th></th>\n",
       "      <th>studio</th>\n",
       "      <th>domestic_gross</th>\n",
       "      <th>foreign_gross</th>\n",
       "      <th>year</th>\n",
       "      <th>d_gross</th>\n",
       "      <th>domestic_gross_category</th>\n",
       "      <th>dgross_category</th>\n",
       "      <th>fgross_category</th>\n",
       "    </tr>\n",
       "    <tr>\n",
       "      <th>title</th>\n",
       "      <th></th>\n",
       "      <th></th>\n",
       "      <th></th>\n",
       "      <th></th>\n",
       "      <th></th>\n",
       "      <th></th>\n",
       "      <th></th>\n",
       "      <th></th>\n",
       "    </tr>\n",
       "  </thead>\n",
       "  <tbody>\n",
       "    <tr>\n",
       "      <th>Toy Story 3</th>\n",
       "      <td>BV</td>\n",
       "      <td>415000000.0</td>\n",
       "      <td>652000000.0</td>\n",
       "      <td>2010</td>\n",
       "      <td>415000000.0</td>\n",
       "      <td>101million and above</td>\n",
       "      <td>101million and above</td>\n",
       "      <td>101million and above</td>\n",
       "    </tr>\n",
       "    <tr>\n",
       "      <th>Alice in Wonderland (2010)</th>\n",
       "      <td>BV</td>\n",
       "      <td>334200000.0</td>\n",
       "      <td>691300000.0</td>\n",
       "      <td>2010</td>\n",
       "      <td>334200000.0</td>\n",
       "      <td>101million and above</td>\n",
       "      <td>101million and above</td>\n",
       "      <td>101million and above</td>\n",
       "    </tr>\n",
       "    <tr>\n",
       "      <th>Harry Potter and the Deathly Hallows Part 1</th>\n",
       "      <td>WB</td>\n",
       "      <td>296000000.0</td>\n",
       "      <td>664300000.0</td>\n",
       "      <td>2010</td>\n",
       "      <td>296000000.0</td>\n",
       "      <td>101million and above</td>\n",
       "      <td>101million and above</td>\n",
       "      <td>101million and above</td>\n",
       "    </tr>\n",
       "    <tr>\n",
       "      <th>Inception</th>\n",
       "      <td>WB</td>\n",
       "      <td>292600000.0</td>\n",
       "      <td>535700000.0</td>\n",
       "      <td>2010</td>\n",
       "      <td>292600000.0</td>\n",
       "      <td>101million and above</td>\n",
       "      <td>101million and above</td>\n",
       "      <td>101million and above</td>\n",
       "    </tr>\n",
       "    <tr>\n",
       "      <th>Shrek Forever After</th>\n",
       "      <td>P/DW</td>\n",
       "      <td>238700000.0</td>\n",
       "      <td>513900000.0</td>\n",
       "      <td>2010</td>\n",
       "      <td>238700000.0</td>\n",
       "      <td>101million and above</td>\n",
       "      <td>101million and above</td>\n",
       "      <td>101million and above</td>\n",
       "    </tr>\n",
       "    <tr>\n",
       "      <th>...</th>\n",
       "      <td>...</td>\n",
       "      <td>...</td>\n",
       "      <td>...</td>\n",
       "      <td>...</td>\n",
       "      <td>...</td>\n",
       "      <td>...</td>\n",
       "      <td>...</td>\n",
       "      <td>...</td>\n",
       "    </tr>\n",
       "    <tr>\n",
       "      <th>The Catcher Was a Spy</th>\n",
       "      <td>IFC</td>\n",
       "      <td>725000.0</td>\n",
       "      <td>229000.0</td>\n",
       "      <td>2018</td>\n",
       "      <td>725000.0</td>\n",
       "      <td>Less than 1 million</td>\n",
       "      <td>Less than 1 million</td>\n",
       "      <td>Less than 1 million</td>\n",
       "    </tr>\n",
       "    <tr>\n",
       "      <th>Time Freak</th>\n",
       "      <td>Grindstone</td>\n",
       "      <td>10000.0</td>\n",
       "      <td>256000.0</td>\n",
       "      <td>2018</td>\n",
       "      <td>10000.0</td>\n",
       "      <td>Less than 1 million</td>\n",
       "      <td>Less than 1 million</td>\n",
       "      <td>Less than 1 million</td>\n",
       "    </tr>\n",
       "    <tr>\n",
       "      <th>Reign of Judges: Title of Liberty - Concept Short</th>\n",
       "      <td>Darin Southa</td>\n",
       "      <td>93200.0</td>\n",
       "      <td>5200.0</td>\n",
       "      <td>2018</td>\n",
       "      <td>93200.0</td>\n",
       "      <td>Less than 1 million</td>\n",
       "      <td>Less than 1 million</td>\n",
       "      <td>Less than 1 million</td>\n",
       "    </tr>\n",
       "    <tr>\n",
       "      <th>Antonio Lopez 1970: Sex Fashion &amp; Disco</th>\n",
       "      <td>FM</td>\n",
       "      <td>43200.0</td>\n",
       "      <td>30000.0</td>\n",
       "      <td>2018</td>\n",
       "      <td>43200.0</td>\n",
       "      <td>Less than 1 million</td>\n",
       "      <td>Less than 1 million</td>\n",
       "      <td>Less than 1 million</td>\n",
       "    </tr>\n",
       "    <tr>\n",
       "      <th>year</th>\n",
       "      <td>NaN</td>\n",
       "      <td>NaN</td>\n",
       "      <td>NaN</td>\n",
       "      <td>nan</td>\n",
       "      <td>NaN</td>\n",
       "      <td>NaN</td>\n",
       "      <td>NaN</td>\n",
       "      <td>NaN</td>\n",
       "    </tr>\n",
       "  </tbody>\n",
       "</table>\n",
       "<p>2033 rows × 8 columns</p>\n",
       "</div>"
      ],
      "text/plain": [
       "                                                         studio  \\\n",
       "title                                                             \n",
       "Toy Story 3                                                  BV   \n",
       "Alice in Wonderland (2010)                                   BV   \n",
       "Harry Potter and the Deathly Hallows Part 1                  WB   \n",
       "Inception                                                    WB   \n",
       "Shrek Forever After                                        P/DW   \n",
       "...                                                         ...   \n",
       "The Catcher Was a Spy                                       IFC   \n",
       "Time Freak                                           Grindstone   \n",
       "Reign of Judges: Title of Liberty - Concept Short  Darin Southa   \n",
       "Antonio Lopez 1970: Sex Fashion & Disco                      FM   \n",
       "year                                                        NaN   \n",
       "\n",
       "                                                   domestic_gross  \\\n",
       "title                                                               \n",
       "Toy Story 3                                           415000000.0   \n",
       "Alice in Wonderland (2010)                            334200000.0   \n",
       "Harry Potter and the Deathly Hallows Part 1           296000000.0   \n",
       "Inception                                             292600000.0   \n",
       "Shrek Forever After                                   238700000.0   \n",
       "...                                                           ...   \n",
       "The Catcher Was a Spy                                    725000.0   \n",
       "Time Freak                                                10000.0   \n",
       "Reign of Judges: Title of Liberty - Concept Short         93200.0   \n",
       "Antonio Lopez 1970: Sex Fashion & Disco                   43200.0   \n",
       "year                                                          NaN   \n",
       "\n",
       "                                                   foreign_gross  year  \\\n",
       "title                                                                    \n",
       "Toy Story 3                                          652000000.0  2010   \n",
       "Alice in Wonderland (2010)                           691300000.0  2010   \n",
       "Harry Potter and the Deathly Hallows Part 1          664300000.0  2010   \n",
       "Inception                                            535700000.0  2010   \n",
       "Shrek Forever After                                  513900000.0  2010   \n",
       "...                                                          ...   ...   \n",
       "The Catcher Was a Spy                                   229000.0  2018   \n",
       "Time Freak                                              256000.0  2018   \n",
       "Reign of Judges: Title of Liberty - Concept Short         5200.0  2018   \n",
       "Antonio Lopez 1970: Sex Fashion & Disco                  30000.0  2018   \n",
       "year                                                         NaN   nan   \n",
       "\n",
       "                                                       d_gross  \\\n",
       "title                                                            \n",
       "Toy Story 3                                        415000000.0   \n",
       "Alice in Wonderland (2010)                         334200000.0   \n",
       "Harry Potter and the Deathly Hallows Part 1        296000000.0   \n",
       "Inception                                          292600000.0   \n",
       "Shrek Forever After                                238700000.0   \n",
       "...                                                        ...   \n",
       "The Catcher Was a Spy                                 725000.0   \n",
       "Time Freak                                             10000.0   \n",
       "Reign of Judges: Title of Liberty - Concept Short      93200.0   \n",
       "Antonio Lopez 1970: Sex Fashion & Disco                43200.0   \n",
       "year                                                       NaN   \n",
       "\n",
       "                                                  domestic_gross_category  \\\n",
       "title                                                                       \n",
       "Toy Story 3                                          101million and above   \n",
       "Alice in Wonderland (2010)                           101million and above   \n",
       "Harry Potter and the Deathly Hallows Part 1          101million and above   \n",
       "Inception                                            101million and above   \n",
       "Shrek Forever After                                  101million and above   \n",
       "...                                                                   ...   \n",
       "The Catcher Was a Spy                                 Less than 1 million   \n",
       "Time Freak                                            Less than 1 million   \n",
       "Reign of Judges: Title of Liberty - Concept Short     Less than 1 million   \n",
       "Antonio Lopez 1970: Sex Fashion & Disco               Less than 1 million   \n",
       "year                                                                  NaN   \n",
       "\n",
       "                                                        dgross_category  \\\n",
       "title                                                                     \n",
       "Toy Story 3                                        101million and above   \n",
       "Alice in Wonderland (2010)                         101million and above   \n",
       "Harry Potter and the Deathly Hallows Part 1        101million and above   \n",
       "Inception                                          101million and above   \n",
       "Shrek Forever After                                101million and above   \n",
       "...                                                                 ...   \n",
       "The Catcher Was a Spy                               Less than 1 million   \n",
       "Time Freak                                          Less than 1 million   \n",
       "Reign of Judges: Title of Liberty - Concept Short   Less than 1 million   \n",
       "Antonio Lopez 1970: Sex Fashion & Disco             Less than 1 million   \n",
       "year                                                                NaN   \n",
       "\n",
       "                                                        fgross_category  \n",
       "title                                                                    \n",
       "Toy Story 3                                        101million and above  \n",
       "Alice in Wonderland (2010)                         101million and above  \n",
       "Harry Potter and the Deathly Hallows Part 1        101million and above  \n",
       "Inception                                          101million and above  \n",
       "Shrek Forever After                                101million and above  \n",
       "...                                                                 ...  \n",
       "The Catcher Was a Spy                               Less than 1 million  \n",
       "Time Freak                                          Less than 1 million  \n",
       "Reign of Judges: Title of Liberty - Concept Short   Less than 1 million  \n",
       "Antonio Lopez 1970: Sex Fashion & Disco             Less than 1 million  \n",
       "year                                                                NaN  \n",
       "\n",
       "[2033 rows x 8 columns]"
      ]
     },
     "execution_count": 105,
     "metadata": {},
     "output_type": "execute_result"
    }
   ],
   "source": [
    "# Defining labels for each category\n",
    "bins = [0, 900000, 50000000, 100000000, 1000000000] \n",
    "labels = ['Less than 1 million', '1-50million', '51-100million', '101million and above']  \n",
    "df['dgross_category'] = pd.cut(df['domestic_gross'], bins=bins, labels=labels)\n",
    "df['fgross_category'] = pd.cut(df['foreign_gross'], bins=bins, labels=labels)\n",
    "df"
   ]
  },
  {
   "cell_type": "markdown",
   "metadata": {},
   "source": [
    "# Computing the percentages"
   ]
  },
  {
   "cell_type": "code",
   "execution_count": 119,
   "metadata": {},
   "outputs": [
    {
     "name": "stdout",
     "output_type": "stream",
     "text": [
      "1-50million             45.548451\n",
      "Less than 1 million     26.758485\n",
      "51-100million           13.920315\n",
      "101million and above    13.723561\n",
      "Name: dgross_category, dtype: float64\n",
      "1-50million             54.451549\n",
      "101million and above    20.413182\n",
      "Less than 1 million     13.034924\n",
      "51-100million           12.051156\n",
      "Name: fgross_category, dtype: float64\n"
     ]
    }
   ],
   "source": [
    "# Compute the value counts for each category\n",
    "dgross_counts = df['dgross_category'].value_counts()\n",
    "fgross_counts = df['fgross_category'].value_counts()\n",
    "\n",
    "# Calculate the percentage for each category\n",
    "dgross_percentages = (dgross_counts / len(df)) * 100\n",
    "fgross_percentages = (fgross_counts/ len(df))*100\n",
    "                                         \n",
    "# print the results\n",
    "\n",
    "print(dgross_percentages)\n",
    "print(fgross_percentages)\n"
   ]
  },
  {
   "cell_type": "code",
   "execution_count": 123,
   "metadata": {},
   "outputs": [
    {
     "name": "stdout",
     "output_type": "stream",
     "text": [
      "                           dgross_category  Count  Percentage\n",
      "1-50million                    1-50million    926   45.548451\n",
      "Less than 1 million    Less than 1 million    544   26.758485\n",
      "51-100million                51-100million    283   13.920315\n",
      "101million and above  101million and above    279   13.723561\n"
     ]
    }
   ],
   "source": [
    "# Create a DataFrame to display the dgross results\n",
    "result_df = pd.DataFrame({'dgross_category': dgross_counts.index, 'Count': dgross_counts, 'Percentage': dgross_percentages})\n",
    "print(result_df)"
   ]
  },
  {
   "cell_type": "code",
   "execution_count": 124,
   "metadata": {},
   "outputs": [
    {
     "name": "stdout",
     "output_type": "stream",
     "text": [
      "                           fgross_category  Count  Percentage\n",
      "1-50million                    1-50million   1107   54.451549\n",
      "101million and above  101million and above    415   20.413182\n",
      "Less than 1 million    Less than 1 million    265   13.034924\n",
      "51-100million                51-100million    245   12.051156\n"
     ]
    }
   ],
   "source": [
    "# Create a DataFrame to display the fgross results\n",
    "result_df2 = pd.DataFrame({'fgross_category': fgross_counts.index, 'Count': fgross_counts, 'Percentage': fgross_percentages})\n",
    "print(result_df2)"
   ]
  },
  {
   "cell_type": "code",
   "execution_count": 134,
   "metadata": {},
   "outputs": [
    {
     "data": {
      "image/png": "[encoded data removed]",
      "text/plain": [
       "<Figure size 864x720 with 1 Axes>"
      ]
     },
     "metadata": {
      "needs_background": "light"
     },
     "output_type": "display_data"
    }
   ],
   "source": [
    "# Create a bar graph to represent domestic gross distribution\n",
    "plt.figure(figsize=(12, 10))\n",
    "plt.bar(result_df['dgross_category'], result_df['Percentage'], color='red')\n",
    "plt.xlabel('Domestic gross')\n",
    "plt.ylabel('Percentage')\n",
    "plt.title('Domestic gross Distribution')\n",
    "\n",
    "plt.show()"
   ]
  },
  {
   "cell_type": "code",
   "execution_count": 132,
   "metadata": {},
   "outputs": [
    {
     "data": {
      "image/png": "[encoded data removed]",
      "text/plain": [
       "<Figure size 864x720 with 1 Axes>"
      ]
     },
     "metadata": {
      "needs_background": "light"
     },
     "output_type": "display_data"
    }
   ],
   "source": [
    "# Create a bar graph to represent foreign gross distribution\n",
    "plt.figure(figsize=(12, 10))\n",
    "plt.bar(result_df2['fgross_category'], result_df['Percentage'], color='orange')\n",
    "plt.xlabel('Doreign gross')\n",
    "plt.ylabel('Percentage')\n",
    "plt.title('Foreign gross Distribution')\n",
    "plt.show()"
   ]
  },
  {
   "cell_type": "markdown",
   "metadata": {},
   "source": [
    "# Inferences\n",
    "The gross earning for most movies are between 1 to 50 million in both domestic and foreign markets. However, investments that draw over 100 million will target more of foreign than domestic market where movies with this earnings command over 25% of the market. "
   ]
  },
  {
   "cell_type": "markdown",
   "metadata": {},
   "source": [
    "# FUTHER ANALYSIS OF BOTH DATASETS i.e. df and df3"
   ]
  },
  {
   "cell_type": "markdown",
   "metadata": {},
   "source": [
    "# Interrogating df3 dataset"
   ]
  },
  {
   "cell_type": "code",
   "execution_count": 136,
   "metadata": {},
   "outputs": [
    {
     "data": {
      "text/plain": [
       "Drama                     11612\n",
       "Documentary               10313\n",
       "Comedy                     5613\n",
       "Horror                     2692\n",
       "Comedy,Drama               2617\n",
       "                          ...  \n",
       "Action,Sport,War              1\n",
       "Action,Crime,Western          1\n",
       "Horror,Musical,Romance        1\n",
       "Biography,Drama,News          1\n",
       "History,Musical               1\n",
       "Name: genres, Length: 923, dtype: int64"
      ]
     },
     "execution_count": 136,
     "metadata": {},
     "output_type": "execute_result"
    }
   ],
   "source": [
    "# getting the genres count\n",
    "genre_counts = df3['genres'].value_counts()\n",
    "genre_counts"
   ]
  },
  {
   "cell_type": "code",
   "execution_count": 146,
   "metadata": {},
   "outputs": [
    {
     "data": {
      "text/plain": [
       "Drama           11612\n",
       "Documentary     10313\n",
       "Comedy           5613\n",
       "Horror           2692\n",
       "Comedy,Drama     2617\n",
       "Name: genres, dtype: int64"
      ]
     },
     "execution_count": 146,
     "metadata": {},
     "output_type": "execute_result"
    }
   ],
   "source": [
    "# Getting the leading genres\n",
    "top_5_genres = genre_counts.head()\n",
    "top_5_genres"
   ]
  },
  {
   "cell_type": "code",
   "execution_count": 147,
   "metadata": {},
   "outputs": [
    {
     "data": {
      "text/plain": [
       "genres\n",
       "Action,Adventure,Sci-Fi       23023248\n",
       "Action,Adventure,Fantasy       9658883\n",
       "Adventure,Animation,Comedy     8687435\n",
       "Drama                          8395521\n",
       "Comedy,Drama,Romance           7665463\n",
       "                                ...   \n",
       "Crime,Western                        5\n",
       "Horror,Musical,Romance               5\n",
       "Comedy,Documentary,Fantasy           5\n",
       "Family,War                           5\n",
       "History,Sport                        5\n",
       "Name: numvotes, Length: 923, dtype: int64"
      ]
     },
     "execution_count": 147,
     "metadata": {},
     "output_type": "execute_result"
    }
   ],
   "source": [
    "# Analyzing the total number of votes for each genre sorting them in descending order \n",
    "genre_votes = df3.groupby('genres')['numvotes'].sum().sort_values(ascending=False)\n",
    "genre_votes"
   ]
  },
  {
   "cell_type": "code",
   "execution_count": 148,
   "metadata": {},
   "outputs": [
    {
     "data": {
      "image/png": "[encoded data removed]",
      "text/plain": [
       "<Figure size 864x432 with 1 Axes>"
      ]
     },
     "metadata": {
      "needs_background": "light"
     },
     "output_type": "display_data"
    }
   ],
   "source": [
    "#plotting a bargraph for the top 5 movie genres\n",
    "\n",
    "plt.figure(figsize=(12, 6))\n",
    "sns.barplot(x=top_5_genres.index, y=top_5_genres.values)\n",
    "plt.xticks(rotation=90)\n",
    "plt.xlabel('Genres')\n",
    "plt.ylabel('Number of Movies')\n",
    "plt.title('Top 5 Movie Genres')\n",
    "plt.tight_layout()\n",
    "plt.show()"
   ]
  },
  {
   "cell_type": "markdown",
   "metadata": {},
   "source": [
    "# Inference \n",
    "Drama documentary and comedy have the highest viewership"
   ]
  },
  {
   "cell_type": "code",
   "execution_count": 150,
   "metadata": {},
   "outputs": [
    {
     "data": {
      "text/plain": [
       "genres\n",
       "Action,Adventure,Sci-Fi       23023248\n",
       "Action,Adventure,Fantasy       9658883\n",
       "Adventure,Animation,Comedy     8687435\n",
       "Drama                          8395521\n",
       "Comedy,Drama,Romance           7665463\n",
       "Name: numvotes, dtype: int64"
      ]
     },
     "execution_count": 150,
     "metadata": {},
     "output_type": "execute_result"
    }
   ],
   "source": [
    "top_5_genres_votes = genre_votes.head()\n",
    "top_5_genres_votes"
   ]
  },
  {
   "cell_type": "code",
   "execution_count": 151,
   "metadata": {},
   "outputs": [
    {
     "data": {
      "image/png": "[encoded data removed]",
      "text/plain": [
       "<Figure size 864x432 with 1 Axes>"
      ]
     },
     "metadata": {
      "needs_background": "light"
     },
     "output_type": "display_data"
    }
   ],
   "source": [
    "#Plotting the outcome in a bargraph\n",
    "\n",
    "plt.figure(figsize=(12, 6))\n",
    "sns.barplot(x=top_5_genres_votes.index, y=top_5_genres_votes)\n",
    "plt.xticks(rotation=90)\n",
    "plt.xlabel('Genres')\n",
    "plt.ylabel('Total Number of Votes')\n",
    "plt.title('Top 5 Genres by Total Number of Votes')\n",
    "plt.tight_layout()\n",
    "plt.show()"
   ]
  },
  {
   "cell_type": "markdown",
   "metadata": {},
   "source": [
    "# inference\n",
    "Action, adventure and Sci-fi are the most voted\n"
   ]
  },
  {
   "cell_type": "markdown",
   "metadata": {},
   "source": [
    "# Since the foreign market appear to have higher revenue than the domestic market, we check the foreign revenues of top movies"
   ]
  },
  {
   "cell_type": "code",
   "execution_count": 158,
   "metadata": {},
   "outputs": [
    {
     "name": "stdout",
     "output_type": "stream",
     "text": [
      "Index(['studio', 'domestic_gross', 'foreign_gross', 'year', 'd_gross',\n",
      "       'domestic_gross_category', 'dgross_category', 'fgross_category'],\n",
      "      dtype='object')\n"
     ]
    }
   ],
   "source": [
    "print(top_5_movies.columns)"
   ]
  },
  {
   "cell_type": "code",
   "execution_count": 167,
   "metadata": {
    "scrolled": true
   },
   "outputs": [
    {
     "data": {
      "image/png": "[encoded data removed]",
      "text/plain": [
       "<Figure size 864x720 with 1 Axes>"
      ]
     },
     "metadata": {
      "needs_background": "light"
     },
     "output_type": "display_data"
    }
   ],
   "source": [
    "# Box plot for average ratings\n",
    "plt.figure(figsize=(12, 10))\n",
    "sns.boxplot(x='averagerating', data=df3)\n",
    "plt.title('Box Plot of Average Ratings')\n",
    "plt.xlabel('Average Rating')\n",
    "plt.show()"
   ]
  },
  {
   "cell_type": "markdown",
   "metadata": {},
   "source": [
    "# Correlation Analysis"
   ]
  },
  {
   "cell_type": "code",
   "execution_count": 177,
   "metadata": {},
   "outputs": [
    {
     "name": "stdout",
     "output_type": "stream",
     "text": [
      "Correlation Matrix:\n",
      "               averagerating  numvotes\n",
      "averagerating       1.000000  0.044478\n",
      "numvotes            0.044478  1.000000\n"
     ]
    }
   ],
   "source": [
    "correlation_matrix = df3[['averagerating', 'numvotes']].corr() \n",
    "print(\"Correlation Matrix:\")\n",
    "print(correlation_matrix)"
   ]
  },
  {
   "cell_type": "code",
   "execution_count": 175,
   "metadata": {},
   "outputs": [
    {
     "data": {
      "image/png": "[encoded data removed]",
      "text/plain": [
       "<Figure size 432x288 with 2 Axes>"
      ]
     },
     "metadata": {
      "needs_background": "light"
     },
     "output_type": "display_data"
    }
   ],
   "source": [
    "# Heatmap: Correlation between averagerating and numvotes\n",
    "plt.figure(figsize=(6, 4))\n",
    "sns.heatmap(df3[['averagerating', 'numvotes']].corr(), annot=True, cmap='coolwarm', fmt='.2f')\n",
    "plt.title('Heatmap: Correlation between Average Rating and Number of Votes')\n",
    "plt.show()\n",
    "\n",
    "# I used a heatmap over here to establish the correlation between average rating and number of votes"
   ]
  },
  {
   "cell_type": "markdown",
   "metadata": {},
   "source": [
    "# Inference\n",
    "There exists a positive (.04) correlation between average rating and number of votes"
   ]
  },
  {
   "cell_type": "markdown",
   "metadata": {},
   "source": [
    "# Conclusion\n",
    "This analysis  provided insights into the movie dataset, that inclueds identifying the, high earning market segment i.e. foreign and domestic, share of earnings, popular genres and their association with the number of votes. Visualization was included to help in understanding the distribution of movie genres and their popularitynecessary to draw informed conclusion. The analysis of the data revealed that microsoft managers who would like to venture into movies industry should put their focus on drama, documentary and comedy. Foreign market has higher earning than domestic market. number of votes for a movie determines its rating and consequent viewership. "
   ]
  },
  {
   "cell_type": "markdown",
   "metadata": {},
   "source": [
    "# Recommendation\n",
    "From the findings, the follwing recommedations are proposed;\n",
    "First, the management should make a decision on scale of investment they would like to put in the movie industry. For trials, they can focus on domestic industry to learn a few loops in the business since the market is small and has low earning requiring least investment. This means the risk exposure is minimal. However, if the company want to go full scale with huge investment foreign market offers great opportunity.\n",
    "\n",
    "Second, on the movies genre the team would like to invest in, drama, documentaries and comedy are the most promising since they command a huge market.\n",
    "\n",
    "Third, as a strategy to monitor the market, either average ratngs or number of votes gives a guide on how a certain movie is performaning in the market. "
   ]
  }
 ],
 "metadata": {
  "kernelspec": {
   "display_name": "Python (learn-env)",
   "language": "python",
   "name": "learn-env"
  },
  "language_info": {
   "codemirror_mode": {
    "name": "ipython",
    "version": 3
   },
   "file_extension": ".py",
   "mimetype": "text/x-python",
   "name": "python",
   "nbconvert_exporter": "python",
   "pygments_lexer": "ipython3",
   "version": "3.8.5"
  }
 },
 "nbformat": 4,
 "nbformat_minor": 4
}
